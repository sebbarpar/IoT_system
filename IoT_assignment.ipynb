{
 "cells": [
  {
   "cell_type": "code",
   "execution_count": 227,
   "metadata": {},
   "outputs": [],
   "source": [
    "import numpy as np\n",
    "import pickle\n",
    "import pandas as pd\n",
    "import statistics\n",
    "from statistics import mean\n",
    "from scipy import stats\n",
    "from biosppy.signals import ecg, eda, emg, resp\n",
    "import matplotlib.pyplot as plt\n",
    "from scipy.stats import spearmanr, pearsonr\n",
    "from sklearn.neighbors import KNeighborsClassifier\n",
    "from sklearn.metrics import accuracy_score"
   ]
  },
  {
   "cell_type": "markdown",
   "metadata": {},
   "source": [
    "# Import datasets"
   ]
  },
  {
   "cell_type": "code",
   "execution_count": 2,
   "metadata": {},
   "outputs": [],
   "source": [
    "#S1 does not exist\n",
    "with open(\"./Dataset/S2.pkl\", 'rb') as f:\n",
    "    S2 = pickle.load(f, encoding='latin')\n",
    "with open(\"./Dataset/S3.pkl\", 'rb') as f:\n",
    "    S3 = pickle.load(f, encoding='latin')\n",
    "with open(\"./Dataset/S4.pkl\", 'rb') as f:\n",
    "    S4 = pickle.load(f, encoding='latin')\n",
    "with open(\"./Dataset/S5.pkl\", 'rb') as f:\n",
    "    S5 = pickle.load(f, encoding='latin')\n",
    "with open(\"./Dataset/S6.pkl\", 'rb') as f:\n",
    "    S6 = pickle.load(f, encoding='latin')\n",
    "with open(\"./Dataset/S7.pkl\", 'rb') as f:\n",
    "    S7 = pickle.load(f, encoding='latin')\n",
    "with open(\"./Dataset/S8.pkl\", 'rb') as f:\n",
    "    S8 = pickle.load(f, encoding='latin')\n",
    "with open(\"./Dataset/S9.pkl\", 'rb') as f:\n",
    "    S9 = pickle.load(f, encoding='latin')\n",
    "with open(\"./Dataset/S10.pkl\", 'rb') as f:\n",
    "    S10 = pickle.load(f, encoding='latin')\n",
    "with open(\"./Dataset/S11.pkl\", 'rb') as f:\n",
    "    S11 = pickle.load(f, encoding='latin')    \n",
    "#S12 does not exist\n",
    "with open(\"./Dataset/S13.pkl\", 'rb') as f:\n",
    "    S13 = pickle.load(f, encoding='latin')\n",
    "with open(\"./Dataset/S14.pkl\", 'rb') as f:\n",
    "    S14 = pickle.load(f, encoding='latin')\n",
    "with open(\"./Dataset/S15.pkl\", 'rb') as f:\n",
    "    S15 = pickle.load(f, encoding='latin')    \n",
    "with open(\"./Dataset/S16.pkl\", 'rb') as f:\n",
    "    S16 = pickle.load(f, encoding='latin')\n",
    "with open(\"./Dataset/S17.pkl\", 'rb') as f:\n",
    "    S17 = pickle.load(f, encoding='latin')"
   ]
  },
  {
   "cell_type": "code",
   "execution_count": 3,
   "metadata": {},
   "outputs": [],
   "source": [
    "def to_pd(S):\n",
    "    lst=S['signal']['chest']['ACC']\n",
    "    ACC_x=np.asarray([item[0] for item in lst])\n",
    "    ACC_y=np.asarray([item[1] for item in lst])\n",
    "    ACC_z=np.asarray([item[2] for item in lst])\n",
    "\n",
    "    d={'acc_x': ACC_x,\n",
    "    'acc_y': ACC_y,\n",
    "    'acc_z': ACC_z,\n",
    "    'ecg': S['signal']['chest']['ECG'].flatten(),\n",
    "    'emg': S['signal']['chest']['EMG'].flatten(),\n",
    "    'eda': S['signal']['chest']['EDA'].flatten(),\n",
    "    'temp': S['signal']['chest']['Temp'].flatten(),\n",
    "    'resp': S['signal']['chest']['Resp'].flatten(),\n",
    "    'label':S['label']}\n",
    "    Sd=pd.DataFrame(data=d)\n",
    "    return Sd"
   ]
  },
  {
   "cell_type": "code",
   "execution_count": 4,
   "metadata": {},
   "outputs": [],
   "source": [
    "S2_d=to_pd(S2)\n",
    "S3_d=to_pd(S3)\n",
    "S4_d=to_pd(S4)\n",
    "S5_d=to_pd(S5)\n",
    "S6_d=to_pd(S6)\n",
    "S7_d=to_pd(S7)\n",
    "S8_d=to_pd(S8)\n",
    "S9_d=to_pd(S9)\n",
    "S10_d=to_pd(S10)\n",
    "S11_d=to_pd(S11)\n",
    "S13_d=to_pd(S13)\n",
    "S14_d=to_pd(S14)\n",
    "S15_d=to_pd(S15)\n",
    "S16_d=to_pd(S16)\n",
    "S17_d=to_pd(S17)"
   ]
  },
  {
   "cell_type": "markdown",
   "metadata": {},
   "source": [
    "# ECG"
   ]
  },
  {
   "cell_type": "code",
   "execution_count": 5,
   "metadata": {},
   "outputs": [],
   "source": [
    "#Compute ECG for every subject\n",
    "ECG2 = ecg.ecg(signal=S2_d['ecg'], sampling_rate=700., show=False)\n",
    "ECG3 = ecg.ecg(signal=S3_d['ecg'], sampling_rate=700., show=False)\n",
    "ECG4 = ecg.ecg(signal=S4_d['ecg'], sampling_rate=700., show=False)\n",
    "ECG5 = ecg.ecg(signal=S5_d['ecg'], sampling_rate=700., show=False)\n",
    "ECG6 = ecg.ecg(signal=S6_d['ecg'], sampling_rate=700., show=False)\n",
    "ECG7 = ecg.ecg(signal=S7_d['ecg'], sampling_rate=700., show=False)\n",
    "ECG8 = ecg.ecg(signal=S8_d['ecg'], sampling_rate=700., show=False)\n",
    "ECG9 = ecg.ecg(signal=S9_d['ecg'], sampling_rate=700., show=False)\n",
    "ECG10 = ecg.ecg(signal=S10_d['ecg'], sampling_rate=700., show=False)\n",
    "ECG11 = ecg.ecg(signal=S11_d['ecg'], sampling_rate=700., show=False)\n",
    "ECG13 = ecg.ecg(signal=S13_d['ecg'], sampling_rate=700., show=False)\n",
    "ECG14 = ecg.ecg(signal=S14_d['ecg'], sampling_rate=700., show=False)\n",
    "ECG15 = ecg.ecg(signal=S15_d['ecg'], sampling_rate=700., show=False)\n",
    "ECG16 = ecg.ecg(signal=S16_d['ecg'], sampling_rate=700., show=False)\n",
    "ECG17 = ecg.ecg(signal=S17_d['ecg'], sampling_rate=700., show=False)"
   ]
  },
  {
   "cell_type": "code",
   "execution_count": 68,
   "metadata": {},
   "outputs": [],
   "source": [
    "def create_ECG(ECG,S):\n",
    "    x=np.round(ECG['heart_rate_ts'], 0)\n",
    "    x=x.astype(int)\n",
    "    d={'ts': x,\n",
    "    'HR': ECG['heart_rate']}\n",
    "    HR=pd.DataFrame(data=d)\n",
    "    HR=HR.groupby(['ts']).mean()\n",
    "    l=list(range(int(S/700)));\n",
    "    HR=HR.reindex(l)\n",
    "    HR=HR.interpolate()\n",
    "    HR=HR.fillna(method='bfill')\n",
    "    return HR"
   ]
  },
  {
   "cell_type": "code",
   "execution_count": 69,
   "metadata": {},
   "outputs": [],
   "source": [
    "HR2=create_ECG(ECG2, len(S2_d))\n",
    "HR3=create_ECG(ECG3, len(S3_d))\n",
    "HR4=create_ECG(ECG4, len(S4_d))\n",
    "HR5=create_ECG(ECG5, len(S5_d))\n",
    "HR6=create_ECG(ECG6, len(S6_d))\n",
    "HR7=create_ECG(ECG7, len(S7_d))\n",
    "HR8=create_ECG(ECG8, len(S8_d))\n",
    "HR9=create_ECG(ECG9, len(S9_d))\n",
    "HR10=create_ECG(ECG10, len(S10_d))\n",
    "HR11=create_ECG(ECG11, len(S11_d))\n",
    "HR13=create_ECG(ECG13, len(S13_d))\n",
    "HR14=create_ECG(ECG14, len(S14_d))\n",
    "HR15=create_ECG(ECG15, len(S15_d))\n",
    "HR16=create_ECG(ECG16, len(S16_d))\n",
    "HR17=create_ECG(ECG17, len(S17_d))"
   ]
  },
  {
   "cell_type": "code",
   "execution_count": 70,
   "metadata": {},
   "outputs": [
    {
     "data": {
      "text/html": [
       "<div>\n",
       "<style scoped>\n",
       "    .dataframe tbody tr th:only-of-type {\n",
       "        vertical-align: middle;\n",
       "    }\n",
       "\n",
       "    .dataframe tbody tr th {\n",
       "        vertical-align: top;\n",
       "    }\n",
       "\n",
       "    .dataframe thead th {\n",
       "        text-align: right;\n",
       "    }\n",
       "</style>\n",
       "<table border=\"1\" class=\"dataframe\">\n",
       "  <thead>\n",
       "    <tr style=\"text-align: right;\">\n",
       "      <th></th>\n",
       "      <th>HR</th>\n",
       "    </tr>\n",
       "  </thead>\n",
       "  <tbody>\n",
       "    <tr>\n",
       "      <th>0</th>\n",
       "      <td>79.260919</td>\n",
       "    </tr>\n",
       "    <tr>\n",
       "      <th>1</th>\n",
       "      <td>79.260919</td>\n",
       "    </tr>\n",
       "    <tr>\n",
       "      <th>2</th>\n",
       "      <td>77.573129</td>\n",
       "    </tr>\n",
       "    <tr>\n",
       "      <th>3</th>\n",
       "      <td>70.623565</td>\n",
       "    </tr>\n",
       "    <tr>\n",
       "      <th>4</th>\n",
       "      <td>66.600045</td>\n",
       "    </tr>\n",
       "    <tr>\n",
       "      <th>...</th>\n",
       "      <td>...</td>\n",
       "    </tr>\n",
       "    <tr>\n",
       "      <th>86863</th>\n",
       "      <td>72.959963</td>\n",
       "    </tr>\n",
       "    <tr>\n",
       "      <th>86864</th>\n",
       "      <td>76.377851</td>\n",
       "    </tr>\n",
       "    <tr>\n",
       "      <th>86865</th>\n",
       "      <td>76.201787</td>\n",
       "    </tr>\n",
       "    <tr>\n",
       "      <th>86866</th>\n",
       "      <td>76.383674</td>\n",
       "    </tr>\n",
       "    <tr>\n",
       "      <th>86867</th>\n",
       "      <td>77.577944</td>\n",
       "    </tr>\n",
       "  </tbody>\n",
       "</table>\n",
       "<p>86868 rows × 1 columns</p>\n",
       "</div>"
      ],
      "text/plain": [
       "              HR\n",
       "0      79.260919\n",
       "1      79.260919\n",
       "2      77.573129\n",
       "3      70.623565\n",
       "4      66.600045\n",
       "...          ...\n",
       "86863  72.959963\n",
       "86864  76.377851\n",
       "86865  76.201787\n",
       "86866  76.383674\n",
       "86867  77.577944\n",
       "\n",
       "[86868 rows x 1 columns]"
      ]
     },
     "execution_count": 70,
     "metadata": {},
     "output_type": "execute_result"
    }
   ],
   "source": [
    "#Compile heart rate into one dataset\n",
    "frames = [HR2, HR3, HR4, HR5, HR6, HR7, HR8, HR9, HR10, HR11, HR13, HR14, HR15, HR16, HR17]\n",
    "HR=pd.concat(frames)\n",
    "HR=HR.reset_index()\n",
    "HR=HR.drop(columns='ts')"
   ]
  },
  {
   "cell_type": "markdown",
   "metadata": {},
   "source": [
    "# EDA"
   ]
  },
  {
   "cell_type": "code",
   "execution_count": 9,
   "metadata": {},
   "outputs": [
    {
     "name": "stderr",
     "output_type": "stream",
     "text": [
      "C:\\Users\\sebba\\anaconda3\\lib\\site-packages\\biosppy\\signals\\eda.py:239: VisibleDeprecationWarning: Creating an ndarray from ragged nested sequences (which is a list-or-tuple of lists-or-tuples-or ndarrays with different lengths or shapes) is deprecated. If you meant to do this, you must specify 'dtype=object' when creating the ndarray\n",
      "  scrs = np.array(scrs)\n"
     ]
    }
   ],
   "source": [
    "#Compute EDA for every subject\n",
    "EDA2=eda.eda(signal=S2_d['eda'], sampling_rate=700., show=False)\n",
    "EDA3=eda.eda(signal=S3_d['eda'], sampling_rate=700., show=False)\n",
    "EDA4=eda.eda(signal=S4_d['eda'], sampling_rate=700., show=False)\n",
    "EDA5=eda.eda(signal=S5_d['eda'], sampling_rate=700., show=False)\n",
    "EDA6=eda.eda(signal=S6_d['eda'], sampling_rate=700., show=False)\n",
    "EDA7=eda.eda(signal=S7_d['eda'], sampling_rate=700., show=False)\n",
    "EDA8=eda.eda(signal=S8_d['eda'], sampling_rate=700., show=False)\n",
    "EDA9=eda.eda(signal=S9_d['eda'], sampling_rate=700., show=False)\n",
    "EDA10=eda.eda(signal=S10_d['eda'], sampling_rate=700., show=False)\n",
    "EDA11=eda.eda(signal=S11_d['eda'], sampling_rate=700., show=False)\n",
    "EDA13=eda.eda(signal=S13_d['eda'], sampling_rate=700., show=False)\n",
    "EDA14=eda.eda(signal=S14_d['eda'], sampling_rate=700., show=False)\n",
    "EDA15=eda.eda(signal=S15_d['eda'], sampling_rate=700., show=False)\n",
    "EDA16=eda.eda(signal=S16_d['eda'], sampling_rate=700., show=False)\n",
    "EDA17=eda.eda(signal=S17_d['eda'], sampling_rate=700., show=False)"
   ]
  },
  {
   "cell_type": "code",
   "execution_count": 65,
   "metadata": {},
   "outputs": [],
   "source": [
    "def create_EDA(EDA,S):\n",
    "    x=np.round(EDA['peaks']/700, 0)\n",
    "    x=x.astype(int)\n",
    "    EDA_b = np.array([0 if i in [0] else 1 for i in EDA['amplitudes']])\n",
    "    d={'ts': x,\n",
    "    'EDA': EDA['amplitudes']}\n",
    "    ED=pd.DataFrame(data=d)\n",
    "    ED=ED.groupby(['ts']).mean()\n",
    "    l=list(range(int(S/700)));\n",
    "    ED=ED.reindex(l)\n",
    "    ED=ED.fillna(0)\n",
    "    EDA_b = np.array([0 if i in [0] else 1 for i in ED['EDA']])\n",
    "    ED['EDA_b']=EDA_b\n",
    "    return ED"
   ]
  },
  {
   "cell_type": "code",
   "execution_count": 66,
   "metadata": {},
   "outputs": [],
   "source": [
    "ED2=create_EDA(EDA2, len(S2_d))\n",
    "ED3=create_EDA(EDA3, len(S3_d))\n",
    "ED4=create_EDA(EDA4, len(S4_d))\n",
    "ED5=create_EDA(EDA5, len(S5_d))\n",
    "ED6=create_EDA(EDA6, len(S6_d))\n",
    "ED7=create_EDA(EDA7, len(S7_d))\n",
    "ED8=create_EDA(EDA8, len(S8_d))\n",
    "ED9=create_EDA(EDA9, len(S9_d))\n",
    "ED10=create_EDA(EDA10, len(S10_d))\n",
    "ED11=create_EDA(EDA11, len(S11_d))\n",
    "ED13=create_EDA(EDA13, len(S13_d))\n",
    "ED14=create_EDA(EDA14, len(S14_d))\n",
    "ED15=create_EDA(EDA15, len(S15_d))\n",
    "ED16=create_EDA(EDA16, len(S16_d))\n",
    "ED17=create_EDA(EDA17, len(S17_d))"
   ]
  },
  {
   "cell_type": "code",
   "execution_count": 67,
   "metadata": {},
   "outputs": [
    {
     "data": {
      "text/html": [
       "<div>\n",
       "<style scoped>\n",
       "    .dataframe tbody tr th:only-of-type {\n",
       "        vertical-align: middle;\n",
       "    }\n",
       "\n",
       "    .dataframe tbody tr th {\n",
       "        vertical-align: top;\n",
       "    }\n",
       "\n",
       "    .dataframe thead th {\n",
       "        text-align: right;\n",
       "    }\n",
       "</style>\n",
       "<table border=\"1\" class=\"dataframe\">\n",
       "  <thead>\n",
       "    <tr style=\"text-align: right;\">\n",
       "      <th></th>\n",
       "      <th>EDA</th>\n",
       "      <th>EDA_b</th>\n",
       "    </tr>\n",
       "  </thead>\n",
       "  <tbody>\n",
       "    <tr>\n",
       "      <th>0</th>\n",
       "      <td>0.000000</td>\n",
       "      <td>0</td>\n",
       "    </tr>\n",
       "    <tr>\n",
       "      <th>1</th>\n",
       "      <td>0.000000</td>\n",
       "      <td>0</td>\n",
       "    </tr>\n",
       "    <tr>\n",
       "      <th>2</th>\n",
       "      <td>0.001267</td>\n",
       "      <td>1</td>\n",
       "    </tr>\n",
       "    <tr>\n",
       "      <th>3</th>\n",
       "      <td>0.000000</td>\n",
       "      <td>0</td>\n",
       "    </tr>\n",
       "    <tr>\n",
       "      <th>4</th>\n",
       "      <td>0.000000</td>\n",
       "      <td>0</td>\n",
       "    </tr>\n",
       "    <tr>\n",
       "      <th>...</th>\n",
       "      <td>...</td>\n",
       "      <td>...</td>\n",
       "    </tr>\n",
       "    <tr>\n",
       "      <th>86863</th>\n",
       "      <td>0.000000</td>\n",
       "      <td>0</td>\n",
       "    </tr>\n",
       "    <tr>\n",
       "      <th>86864</th>\n",
       "      <td>0.000000</td>\n",
       "      <td>0</td>\n",
       "    </tr>\n",
       "    <tr>\n",
       "      <th>86865</th>\n",
       "      <td>0.000000</td>\n",
       "      <td>0</td>\n",
       "    </tr>\n",
       "    <tr>\n",
       "      <th>86866</th>\n",
       "      <td>0.000000</td>\n",
       "      <td>0</td>\n",
       "    </tr>\n",
       "    <tr>\n",
       "      <th>86867</th>\n",
       "      <td>0.000000</td>\n",
       "      <td>0</td>\n",
       "    </tr>\n",
       "  </tbody>\n",
       "</table>\n",
       "<p>86868 rows × 2 columns</p>\n",
       "</div>"
      ],
      "text/plain": [
       "            EDA  EDA_b\n",
       "0      0.000000      0\n",
       "1      0.000000      0\n",
       "2      0.001267      1\n",
       "3      0.000000      0\n",
       "4      0.000000      0\n",
       "...         ...    ...\n",
       "86863  0.000000      0\n",
       "86864  0.000000      0\n",
       "86865  0.000000      0\n",
       "86866  0.000000      0\n",
       "86867  0.000000      0\n",
       "\n",
       "[86868 rows x 2 columns]"
      ]
     },
     "execution_count": 67,
     "metadata": {},
     "output_type": "execute_result"
    }
   ],
   "source": [
    "#Make dataframe with EDA for all subjects\n",
    "frames = [ED2, ED3, ED4, ED5, ED6, ED7, ED8, ED9, ED10, ED11, ED13, ED14, ED15, ED16, ED17]\n",
    "ED=pd.concat(frames)\n",
    "ED=ED.reset_index()\n",
    "ED=ED.drop(columns='ts')"
   ]
  },
  {
   "cell_type": "markdown",
   "metadata": {},
   "source": [
    "# EMG\n"
   ]
  },
  {
   "cell_type": "code",
   "execution_count": 13,
   "metadata": {},
   "outputs": [],
   "source": [
    "#Compute EMG for every subject\n",
    "EMG2=emg.emg(signal=S2_d['emg'], sampling_rate=700., show=False)\n",
    "EMG3=emg.emg(signal=S3_d['emg'], sampling_rate=700., show=False)\n",
    "EMG4=emg.emg(signal=S4_d['emg'], sampling_rate=700., show=False)\n",
    "EMG5=emg.emg(signal=S5_d['emg'], sampling_rate=700., show=False)\n",
    "EMG6=emg.emg(signal=S6_d['emg'], sampling_rate=700., show=False)\n",
    "EMG7=emg.emg(signal=S7_d['emg'], sampling_rate=700., show=False)\n",
    "EMG8=emg.emg(signal=S8_d['emg'], sampling_rate=700., show=False)\n",
    "EMG9=emg.emg(signal=S9_d['emg'], sampling_rate=700., show=False)\n",
    "EMG10=emg.emg(signal=S10_d['emg'], sampling_rate=700., show=False)\n",
    "EMG11=emg.emg(signal=S11_d['emg'], sampling_rate=700., show=False)\n",
    "EMG13=emg.emg(signal=S13_d['emg'], sampling_rate=700., show=False)\n",
    "EMG14=emg.emg(signal=S14_d['emg'], sampling_rate=700., show=False)\n",
    "EMG15=emg.emg(signal=S15_d['emg'], sampling_rate=700., show=False)\n",
    "EMG16=emg.emg(signal=S16_d['emg'], sampling_rate=700., show=False)\n",
    "EMG17=emg.emg(signal=S17_d['emg'], sampling_rate=700., show=False)"
   ]
  },
  {
   "cell_type": "code",
   "execution_count": 62,
   "metadata": {},
   "outputs": [],
   "source": [
    "def create_EMG(EMG,S):\n",
    "    emg=np.round(EMG['onsets']/700)\n",
    "    emg_onset=np.zeros(int(S/700), dtype='int8')\n",
    "    for i in range(int(S/700)):\n",
    "        emg_onset[i]=np.count_nonzero(emg==i)\n",
    "    d={'EMG': emg_onset}\n",
    "    EM=pd.DataFrame(data=d)\n",
    "    EMG_b = np.array([0 if i in [0] else 1 for i in EM['EMG']])\n",
    "    EM['EMG_b']=EMG_b\n",
    "    return EM"
   ]
  },
  {
   "cell_type": "code",
   "execution_count": 63,
   "metadata": {},
   "outputs": [],
   "source": [
    "EM2=create_EMG(EMG2, len(S2_d))\n",
    "EM3=create_EMG(EMG3, len(S3_d))\n",
    "EM4=create_EMG(EMG4, len(S4_d))\n",
    "EM5=create_EMG(EMG5, len(S5_d))\n",
    "EM6=create_EMG(EMG6, len(S6_d))\n",
    "EM7=create_EMG(EMG7, len(S7_d))\n",
    "EM8=create_EMG(EMG8, len(S8_d))\n",
    "EM9=create_EMG(EMG9, len(S9_d))\n",
    "EM10=create_EMG(EMG10, len(S10_d))\n",
    "EM11=create_EMG(EMG11, len(S11_d))\n",
    "EM13=create_EMG(EMG13, len(S13_d))\n",
    "EM14=create_EMG(EMG14, len(S14_d))\n",
    "EM15=create_EMG(EMG15, len(S15_d))\n",
    "EM16=create_EMG(EMG16, len(S16_d))\n",
    "EM17=create_EMG(EMG17, len(S17_d))"
   ]
  },
  {
   "cell_type": "code",
   "execution_count": 64,
   "metadata": {},
   "outputs": [
    {
     "data": {
      "text/html": [
       "<div>\n",
       "<style scoped>\n",
       "    .dataframe tbody tr th:only-of-type {\n",
       "        vertical-align: middle;\n",
       "    }\n",
       "\n",
       "    .dataframe tbody tr th {\n",
       "        vertical-align: top;\n",
       "    }\n",
       "\n",
       "    .dataframe thead th {\n",
       "        text-align: right;\n",
       "    }\n",
       "</style>\n",
       "<table border=\"1\" class=\"dataframe\">\n",
       "  <thead>\n",
       "    <tr style=\"text-align: right;\">\n",
       "      <th></th>\n",
       "      <th>EMG</th>\n",
       "      <th>EMG_b</th>\n",
       "    </tr>\n",
       "  </thead>\n",
       "  <tbody>\n",
       "    <tr>\n",
       "      <th>0</th>\n",
       "      <td>0</td>\n",
       "      <td>0</td>\n",
       "    </tr>\n",
       "    <tr>\n",
       "      <th>1</th>\n",
       "      <td>0</td>\n",
       "      <td>0</td>\n",
       "    </tr>\n",
       "    <tr>\n",
       "      <th>2</th>\n",
       "      <td>0</td>\n",
       "      <td>0</td>\n",
       "    </tr>\n",
       "    <tr>\n",
       "      <th>3</th>\n",
       "      <td>0</td>\n",
       "      <td>0</td>\n",
       "    </tr>\n",
       "    <tr>\n",
       "      <th>4</th>\n",
       "      <td>0</td>\n",
       "      <td>0</td>\n",
       "    </tr>\n",
       "    <tr>\n",
       "      <th>...</th>\n",
       "      <td>...</td>\n",
       "      <td>...</td>\n",
       "    </tr>\n",
       "    <tr>\n",
       "      <th>86863</th>\n",
       "      <td>0</td>\n",
       "      <td>0</td>\n",
       "    </tr>\n",
       "    <tr>\n",
       "      <th>86864</th>\n",
       "      <td>0</td>\n",
       "      <td>0</td>\n",
       "    </tr>\n",
       "    <tr>\n",
       "      <th>86865</th>\n",
       "      <td>0</td>\n",
       "      <td>0</td>\n",
       "    </tr>\n",
       "    <tr>\n",
       "      <th>86866</th>\n",
       "      <td>0</td>\n",
       "      <td>0</td>\n",
       "    </tr>\n",
       "    <tr>\n",
       "      <th>86867</th>\n",
       "      <td>0</td>\n",
       "      <td>0</td>\n",
       "    </tr>\n",
       "  </tbody>\n",
       "</table>\n",
       "<p>86868 rows × 2 columns</p>\n",
       "</div>"
      ],
      "text/plain": [
       "       EMG  EMG_b\n",
       "0        0      0\n",
       "1        0      0\n",
       "2        0      0\n",
       "3        0      0\n",
       "4        0      0\n",
       "...    ...    ...\n",
       "86863    0      0\n",
       "86864    0      0\n",
       "86865    0      0\n",
       "86866    0      0\n",
       "86867    0      0\n",
       "\n",
       "[86868 rows x 2 columns]"
      ]
     },
     "execution_count": 64,
     "metadata": {},
     "output_type": "execute_result"
    }
   ],
   "source": [
    "#All together\n",
    "frames = [EM2, EM3, EM4, EM5, EM6, EM7, EM8, EM9, EM10, EM11, EM13, EM14, EM15, EM16, EM17]\n",
    "EM=pd.concat(frames)\n",
    "EM=EM.reset_index()\n",
    "EM=EM.drop(columns='index')"
   ]
  },
  {
   "cell_type": "markdown",
   "metadata": {},
   "source": [
    "# RESP"
   ]
  },
  {
   "cell_type": "code",
   "execution_count": 17,
   "metadata": {},
   "outputs": [],
   "source": [
    "#Compute respiration for every subject\n",
    "Resp2=resp.resp(signal=S2_d['resp'], sampling_rate=700., show=False)\n",
    "Resp3=resp.resp(signal=S3_d['resp'], sampling_rate=700., show=False)\n",
    "Resp4=resp.resp(signal=S4_d['resp'], sampling_rate=700., show=False)\n",
    "Resp5=resp.resp(signal=S5_d['resp'], sampling_rate=700., show=False)\n",
    "Resp6=resp.resp(signal=S6_d['resp'], sampling_rate=700., show=False)\n",
    "Resp7=resp.resp(signal=S7_d['resp'], sampling_rate=700., show=False)\n",
    "Resp8=resp.resp(signal=S8_d['resp'], sampling_rate=700., show=False)\n",
    "Resp9=resp.resp(signal=S9_d['resp'], sampling_rate=700., show=False)\n",
    "Resp10=resp.resp(signal=S10_d['resp'], sampling_rate=700., show=False)\n",
    "Resp11=resp.resp(signal=S11_d['resp'], sampling_rate=700., show=False)\n",
    "Resp13=resp.resp(signal=S13_d['resp'], sampling_rate=700., show=False)\n",
    "Resp14=resp.resp(signal=S14_d['resp'], sampling_rate=700., show=False)\n",
    "Resp15=resp.resp(signal=S15_d['resp'], sampling_rate=700., show=False)\n",
    "Resp16=resp.resp(signal=S16_d['resp'], sampling_rate=700., show=False)\n",
    "Resp17=resp.resp(signal=S17_d['resp'], sampling_rate=700., show=False)"
   ]
  },
  {
   "cell_type": "code",
   "execution_count": 56,
   "metadata": {},
   "outputs": [],
   "source": [
    "def create_Resp(Resp,S):\n",
    "    x=np.round(Resp['resp_rate_ts'], 0)\n",
    "    x=x.astype(int)\n",
    "    d={'ts': x,\n",
    "    'Resp': Resp['resp_rate']}\n",
    "    RS=pd.DataFrame(data=d)\n",
    "    RS=RS.groupby(['ts']).mean()\n",
    "    l=list(range(int(S/700)));\n",
    "    RS=RS.reindex(l)\n",
    "    RS=RS.fillna(0)\n",
    "    RS_b = np.array([0 if i in [0] else 1 for i in RS['Resp']])\n",
    "    RS['Resp_b']=RS_b\n",
    "    return RS"
   ]
  },
  {
   "cell_type": "code",
   "execution_count": 57,
   "metadata": {},
   "outputs": [],
   "source": [
    "RS2=create_Resp(Resp2, len(S2_d))\n",
    "RS3=create_Resp(Resp3, len(S3_d))\n",
    "RS4=create_Resp(Resp4, len(S4_d))\n",
    "RS5=create_Resp(Resp5, len(S5_d))\n",
    "RS6=create_Resp(Resp6, len(S6_d))\n",
    "RS7=create_Resp(Resp7, len(S7_d))\n",
    "RS8=create_Resp(Resp8, len(S8_d))\n",
    "RS9=create_Resp(Resp9, len(S9_d))\n",
    "RS10=create_Resp(Resp10, len(S10_d))\n",
    "RS11=create_Resp(Resp11, len(S11_d))\n",
    "RS13=create_Resp(Resp13, len(S13_d))\n",
    "RS14=create_Resp(Resp14, len(S14_d))\n",
    "RS15=create_Resp(Resp15, len(S15_d))\n",
    "RS16=create_Resp(Resp16, len(S16_d))\n",
    "RS17=create_Resp(Resp17, len(S17_d))"
   ]
  },
  {
   "cell_type": "code",
   "execution_count": 58,
   "metadata": {},
   "outputs": [
    {
     "data": {
      "text/html": [
       "<div>\n",
       "<style scoped>\n",
       "    .dataframe tbody tr th:only-of-type {\n",
       "        vertical-align: middle;\n",
       "    }\n",
       "\n",
       "    .dataframe tbody tr th {\n",
       "        vertical-align: top;\n",
       "    }\n",
       "\n",
       "    .dataframe thead th {\n",
       "        text-align: right;\n",
       "    }\n",
       "</style>\n",
       "<table border=\"1\" class=\"dataframe\">\n",
       "  <thead>\n",
       "    <tr style=\"text-align: right;\">\n",
       "      <th></th>\n",
       "      <th>Resp</th>\n",
       "      <th>Resp_b</th>\n",
       "    </tr>\n",
       "  </thead>\n",
       "  <tbody>\n",
       "    <tr>\n",
       "      <th>0</th>\n",
       "      <td>0.000000</td>\n",
       "      <td>0</td>\n",
       "    </tr>\n",
       "    <tr>\n",
       "      <th>1</th>\n",
       "      <td>0.000000</td>\n",
       "      <td>0</td>\n",
       "    </tr>\n",
       "    <tr>\n",
       "      <th>2</th>\n",
       "      <td>0.000000</td>\n",
       "      <td>0</td>\n",
       "    </tr>\n",
       "    <tr>\n",
       "      <th>3</th>\n",
       "      <td>0.000000</td>\n",
       "      <td>0</td>\n",
       "    </tr>\n",
       "    <tr>\n",
       "      <th>4</th>\n",
       "      <td>0.000000</td>\n",
       "      <td>0</td>\n",
       "    </tr>\n",
       "    <tr>\n",
       "      <th>...</th>\n",
       "      <td>...</td>\n",
       "      <td>...</td>\n",
       "    </tr>\n",
       "    <tr>\n",
       "      <th>86863</th>\n",
       "      <td>0.000000</td>\n",
       "      <td>0</td>\n",
       "    </tr>\n",
       "    <tr>\n",
       "      <th>86864</th>\n",
       "      <td>0.185694</td>\n",
       "      <td>1</td>\n",
       "    </tr>\n",
       "    <tr>\n",
       "      <th>86865</th>\n",
       "      <td>0.000000</td>\n",
       "      <td>0</td>\n",
       "    </tr>\n",
       "    <tr>\n",
       "      <th>86866</th>\n",
       "      <td>0.000000</td>\n",
       "      <td>0</td>\n",
       "    </tr>\n",
       "    <tr>\n",
       "      <th>86867</th>\n",
       "      <td>0.000000</td>\n",
       "      <td>0</td>\n",
       "    </tr>\n",
       "  </tbody>\n",
       "</table>\n",
       "<p>86868 rows × 2 columns</p>\n",
       "</div>"
      ],
      "text/plain": [
       "           Resp  Resp_b\n",
       "0      0.000000       0\n",
       "1      0.000000       0\n",
       "2      0.000000       0\n",
       "3      0.000000       0\n",
       "4      0.000000       0\n",
       "...         ...     ...\n",
       "86863  0.000000       0\n",
       "86864  0.185694       1\n",
       "86865  0.000000       0\n",
       "86866  0.000000       0\n",
       "86867  0.000000       0\n",
       "\n",
       "[86868 rows x 2 columns]"
      ]
     },
     "execution_count": 58,
     "metadata": {},
     "output_type": "execute_result"
    }
   ],
   "source": [
    "#All together\n",
    "frames = [RS2, RS3, RS4, RS5, RS6, RS7, RS8, RS9, RS10, RS11, RS13, RS14, RS15, RS16, RS17]\n",
    "RS=pd.concat(frames)\n",
    "RS=RS.reset_index()\n",
    "RS=RS.drop(columns='ts')"
   ]
  },
  {
   "cell_type": "markdown",
   "metadata": {},
   "source": [
    "# Temp"
   ]
  },
  {
   "cell_type": "code",
   "execution_count": 34,
   "metadata": {},
   "outputs": [],
   "source": [
    "#Divide data to seconds\n",
    "def divide_chunks(l, n):\n",
    "    for i in range(0, len(l), n): \n",
    "        yield l[i:i + n]\n",
    "\n",
    "#create temperature dataframe\n",
    "def create_T(S):\n",
    "    x = list(divide_chunks(S['temp'], 700))\n",
    "    mean=np.zeros(int(len(S)/700))\n",
    "    std=np.zeros(int(len(S)/700))\n",
    "    for i in range(int(len(S)/700)):\n",
    "        mean[i]=np.mean(x[i])\n",
    "        std[i]=np.std(x[i])\n",
    "    d={'mean_T': mean,\n",
    "        'std_T': std}\n",
    "    T=pd.DataFrame(data=d)\n",
    "    return T"
   ]
  },
  {
   "cell_type": "code",
   "execution_count": 36,
   "metadata": {},
   "outputs": [],
   "source": [
    "T2=create_T(S2_d)\n",
    "T3=create_T(S3_d)\n",
    "T4=create_T(S4_d)\n",
    "T5=create_T(S5_d)\n",
    "T6=create_T(S6_d)\n",
    "T7=create_T(S7_d)\n",
    "T8=create_T(S8_d)\n",
    "T9=create_T(S9_d)\n",
    "T10=create_T(S10_d)\n",
    "T11=create_T(S11_d)\n",
    "T13=create_T(S13_d)\n",
    "T14=create_T(S14_d)\n",
    "T15=create_T(S15_d)\n",
    "T16=create_T(S16_d)\n",
    "T17=create_T(S17_d)"
   ]
  },
  {
   "cell_type": "code",
   "execution_count": 37,
   "metadata": {},
   "outputs": [
    {
     "data": {
      "text/html": [
       "<div>\n",
       "<style scoped>\n",
       "    .dataframe tbody tr th:only-of-type {\n",
       "        vertical-align: middle;\n",
       "    }\n",
       "\n",
       "    .dataframe tbody tr th {\n",
       "        vertical-align: top;\n",
       "    }\n",
       "\n",
       "    .dataframe thead th {\n",
       "        text-align: right;\n",
       "    }\n",
       "</style>\n",
       "<table border=\"1\" class=\"dataframe\">\n",
       "  <thead>\n",
       "    <tr style=\"text-align: right;\">\n",
       "      <th></th>\n",
       "      <th>mean_T</th>\n",
       "      <th>std_T</th>\n",
       "    </tr>\n",
       "  </thead>\n",
       "  <tbody>\n",
       "    <tr>\n",
       "      <th>0</th>\n",
       "      <td>30.123638</td>\n",
       "      <td>0.023665</td>\n",
       "    </tr>\n",
       "    <tr>\n",
       "      <th>1</th>\n",
       "      <td>30.104570</td>\n",
       "      <td>0.018506</td>\n",
       "    </tr>\n",
       "    <tr>\n",
       "      <th>2</th>\n",
       "      <td>30.093279</td>\n",
       "      <td>0.019504</td>\n",
       "    </tr>\n",
       "    <tr>\n",
       "      <th>3</th>\n",
       "      <td>30.087336</td>\n",
       "      <td>0.019649</td>\n",
       "    </tr>\n",
       "    <tr>\n",
       "      <th>4</th>\n",
       "      <td>30.088646</td>\n",
       "      <td>0.024220</td>\n",
       "    </tr>\n",
       "    <tr>\n",
       "      <th>...</th>\n",
       "      <td>...</td>\n",
       "      <td>...</td>\n",
       "    </tr>\n",
       "    <tr>\n",
       "      <th>86863</th>\n",
       "      <td>33.876034</td>\n",
       "      <td>0.022401</td>\n",
       "    </tr>\n",
       "    <tr>\n",
       "      <th>86864</th>\n",
       "      <td>33.877449</td>\n",
       "      <td>0.022808</td>\n",
       "    </tr>\n",
       "    <tr>\n",
       "      <th>86865</th>\n",
       "      <td>33.870209</td>\n",
       "      <td>0.023566</td>\n",
       "    </tr>\n",
       "    <tr>\n",
       "      <th>86866</th>\n",
       "      <td>33.864574</td>\n",
       "      <td>0.022010</td>\n",
       "    </tr>\n",
       "    <tr>\n",
       "      <th>86867</th>\n",
       "      <td>33.857174</td>\n",
       "      <td>0.023006</td>\n",
       "    </tr>\n",
       "  </tbody>\n",
       "</table>\n",
       "<p>86868 rows × 2 columns</p>\n",
       "</div>"
      ],
      "text/plain": [
       "          mean_T     std_T\n",
       "0      30.123638  0.023665\n",
       "1      30.104570  0.018506\n",
       "2      30.093279  0.019504\n",
       "3      30.087336  0.019649\n",
       "4      30.088646  0.024220\n",
       "...          ...       ...\n",
       "86863  33.876034  0.022401\n",
       "86864  33.877449  0.022808\n",
       "86865  33.870209  0.023566\n",
       "86866  33.864574  0.022010\n",
       "86867  33.857174  0.023006\n",
       "\n",
       "[86868 rows x 2 columns]"
      ]
     },
     "execution_count": 37,
     "metadata": {},
     "output_type": "execute_result"
    }
   ],
   "source": [
    "#All together\n",
    "frames = [T2, T3, T4, T5, T6, T7, T8, T9, T10, T11, T13, T14, T15, T16, T17]\n",
    "T=pd.concat(frames)\n",
    "T=T.reset_index()\n",
    "T=T.drop(columns='index')"
   ]
  },
  {
   "cell_type": "markdown",
   "metadata": {},
   "source": [
    "# ACC"
   ]
  },
  {
   "cell_type": "code",
   "execution_count": 124,
   "metadata": {},
   "outputs": [],
   "source": [
    "#Compile acceleration in every axis and put it into dataframe\n",
    "def create_ACC(S):\n",
    "    x = list(divide_chunks(S['acc_x'], 700))\n",
    "    y = list(divide_chunks(S['acc_y'], 700))\n",
    "    z = list(divide_chunks(S['acc_z'], 700))\n",
    "    mean_x=np.zeros(int(len(S)/700))\n",
    "    mean_y=np.zeros(int(len(S)/700))\n",
    "    mean_z=np.zeros(int(len(S)/700))\n",
    "    std_x=np.zeros(int(len(S)/700))\n",
    "    std_y=np.zeros(int(len(S)/700))\n",
    "    std_z=np.zeros(int(len(S)/700))\n",
    "    for i in range(int(len(S)/700)):\n",
    "        mean_x[i]=np.mean(x[i])\n",
    "        mean_y[i]=np.mean(y[i])\n",
    "        mean_z[i]=np.mean(z[i])\n",
    "        std_x[i]=np.std(x[i])\n",
    "        std_y[i]=np.std(y[i])\n",
    "        std_z[i]=np.std(z[i])\n",
    "    d={'mean_x': mean_x,\n",
    "       'mean_y': mean_y,\n",
    "       'mean_z': mean_z,\n",
    "       'std_x': std_x,\n",
    "       'std_y': std_y,\n",
    "        'std_z': std_z}\n",
    "    ACC=pd.DataFrame(data=d)\n",
    "    return ACC"
   ]
  },
  {
   "cell_type": "code",
   "execution_count": 125,
   "metadata": {},
   "outputs": [],
   "source": [
    "ACC2=create_ACC(S2_d)\n",
    "ACC3=create_ACC(S3_d)\n",
    "ACC4=create_ACC(S4_d)\n",
    "ACC5=create_ACC(S5_d)\n",
    "ACC6=create_ACC(S6_d)\n",
    "ACC7=create_ACC(S7_d)\n",
    "ACC8=create_ACC(S8_d)\n",
    "ACC9=create_ACC(S9_d)\n",
    "ACC10=create_ACC(S10_d)\n",
    "ACC11=create_ACC(S11_d)\n",
    "ACC13=create_ACC(S13_d)\n",
    "ACC14=create_ACC(S14_d)\n",
    "ACC15=create_ACC(S15_d)\n",
    "ACC16=create_ACC(S16_d)\n",
    "ACC17=create_ACC(S17_d)"
   ]
  },
  {
   "cell_type": "code",
   "execution_count": 280,
   "metadata": {},
   "outputs": [
    {
     "data": {
      "text/html": [
       "<div>\n",
       "<style scoped>\n",
       "    .dataframe tbody tr th:only-of-type {\n",
       "        vertical-align: middle;\n",
       "    }\n",
       "\n",
       "    .dataframe tbody tr th {\n",
       "        vertical-align: top;\n",
       "    }\n",
       "\n",
       "    .dataframe thead th {\n",
       "        text-align: right;\n",
       "    }\n",
       "</style>\n",
       "<table border=\"1\" class=\"dataframe\">\n",
       "  <thead>\n",
       "    <tr style=\"text-align: right;\">\n",
       "      <th></th>\n",
       "      <th>mean_x</th>\n",
       "      <th>mean_y</th>\n",
       "      <th>mean_z</th>\n",
       "      <th>std_x</th>\n",
       "      <th>std_y</th>\n",
       "      <th>std_z</th>\n",
       "    </tr>\n",
       "  </thead>\n",
       "  <tbody>\n",
       "    <tr>\n",
       "      <th>0</th>\n",
       "      <td>0.863323</td>\n",
       "      <td>-0.126384</td>\n",
       "      <td>-0.316458</td>\n",
       "      <td>0.053275</td>\n",
       "      <td>0.045083</td>\n",
       "      <td>0.094101</td>\n",
       "    </tr>\n",
       "    <tr>\n",
       "      <th>1</th>\n",
       "      <td>0.863881</td>\n",
       "      <td>-0.128864</td>\n",
       "      <td>-0.315161</td>\n",
       "      <td>0.062140</td>\n",
       "      <td>0.055675</td>\n",
       "      <td>0.104473</td>\n",
       "    </tr>\n",
       "    <tr>\n",
       "      <th>2</th>\n",
       "      <td>0.864248</td>\n",
       "      <td>-0.126402</td>\n",
       "      <td>-0.315757</td>\n",
       "      <td>0.003689</td>\n",
       "      <td>0.006456</td>\n",
       "      <td>0.009927</td>\n",
       "    </tr>\n",
       "    <tr>\n",
       "      <th>3</th>\n",
       "      <td>0.864269</td>\n",
       "      <td>-0.128752</td>\n",
       "      <td>-0.316617</td>\n",
       "      <td>0.005210</td>\n",
       "      <td>0.003377</td>\n",
       "      <td>0.009735</td>\n",
       "    </tr>\n",
       "    <tr>\n",
       "      <th>4</th>\n",
       "      <td>0.866055</td>\n",
       "      <td>-0.127183</td>\n",
       "      <td>-0.311079</td>\n",
       "      <td>0.004215</td>\n",
       "      <td>0.003604</td>\n",
       "      <td>0.009020</td>\n",
       "    </tr>\n",
       "    <tr>\n",
       "      <th>...</th>\n",
       "      <td>...</td>\n",
       "      <td>...</td>\n",
       "      <td>...</td>\n",
       "      <td>...</td>\n",
       "      <td>...</td>\n",
       "      <td>...</td>\n",
       "    </tr>\n",
       "    <tr>\n",
       "      <th>86863</th>\n",
       "      <td>0.905522</td>\n",
       "      <td>-0.033974</td>\n",
       "      <td>-0.163737</td>\n",
       "      <td>0.007384</td>\n",
       "      <td>0.018322</td>\n",
       "      <td>0.010462</td>\n",
       "    </tr>\n",
       "    <tr>\n",
       "      <th>86864</th>\n",
       "      <td>0.905789</td>\n",
       "      <td>-0.038146</td>\n",
       "      <td>-0.152659</td>\n",
       "      <td>0.007065</td>\n",
       "      <td>0.011661</td>\n",
       "      <td>0.011335</td>\n",
       "    </tr>\n",
       "    <tr>\n",
       "      <th>86865</th>\n",
       "      <td>0.907415</td>\n",
       "      <td>-0.042421</td>\n",
       "      <td>-0.154039</td>\n",
       "      <td>0.003589</td>\n",
       "      <td>0.004938</td>\n",
       "      <td>0.008022</td>\n",
       "    </tr>\n",
       "    <tr>\n",
       "      <th>86866</th>\n",
       "      <td>0.901406</td>\n",
       "      <td>-0.044165</td>\n",
       "      <td>-0.183767</td>\n",
       "      <td>0.003613</td>\n",
       "      <td>0.003077</td>\n",
       "      <td>0.010128</td>\n",
       "    </tr>\n",
       "    <tr>\n",
       "      <th>86867</th>\n",
       "      <td>0.900788</td>\n",
       "      <td>-0.041116</td>\n",
       "      <td>-0.191272</td>\n",
       "      <td>0.002571</td>\n",
       "      <td>0.002877</td>\n",
       "      <td>0.007671</td>\n",
       "    </tr>\n",
       "  </tbody>\n",
       "</table>\n",
       "<p>86868 rows × 6 columns</p>\n",
       "</div>"
      ],
      "text/plain": [
       "         mean_x    mean_y    mean_z     std_x     std_y     std_z\n",
       "0      0.863323 -0.126384 -0.316458  0.053275  0.045083  0.094101\n",
       "1      0.863881 -0.128864 -0.315161  0.062140  0.055675  0.104473\n",
       "2      0.864248 -0.126402 -0.315757  0.003689  0.006456  0.009927\n",
       "3      0.864269 -0.128752 -0.316617  0.005210  0.003377  0.009735\n",
       "4      0.866055 -0.127183 -0.311079  0.004215  0.003604  0.009020\n",
       "...         ...       ...       ...       ...       ...       ...\n",
       "86863  0.905522 -0.033974 -0.163737  0.007384  0.018322  0.010462\n",
       "86864  0.905789 -0.038146 -0.152659  0.007065  0.011661  0.011335\n",
       "86865  0.907415 -0.042421 -0.154039  0.003589  0.004938  0.008022\n",
       "86866  0.901406 -0.044165 -0.183767  0.003613  0.003077  0.010128\n",
       "86867  0.900788 -0.041116 -0.191272  0.002571  0.002877  0.007671\n",
       "\n",
       "[86868 rows x 6 columns]"
      ]
     },
     "execution_count": 280,
     "metadata": {},
     "output_type": "execute_result"
    }
   ],
   "source": [
    "#All together\n",
    "frames = [ACC2, ACC3, ACC4, ACC5, ACC6, ACC7, ACC8, ACC9, ACC10, ACC11, ACC13, ACC14, ACC15, ACC16, ACC17]\n",
    "ACC=pd.concat(frames)\n",
    "ACC=ACC.reset_index()\n",
    "ACC=ACC.drop(columns='index')"
   ]
  },
  {
   "cell_type": "markdown",
   "metadata": {},
   "source": [
    "# LABEL"
   ]
  },
  {
   "cell_type": "code",
   "execution_count": 75,
   "metadata": {},
   "outputs": [],
   "source": [
    "#Label for every second\n",
    "def create_lab(S):\n",
    "    x = list(divide_chunks(S['label'], 700))\n",
    "    lab=np.zeros(int(len(S)/700))\n",
    "    for i in range(int(len(S)/700)):\n",
    "        a=stats.mode(x[i])\n",
    "        lab[i]=int(a[0])\n",
    "    d={'label': lab}\n",
    "    LAB=pd.DataFrame(data=d)\n",
    "    return LAB"
   ]
  },
  {
   "cell_type": "code",
   "execution_count": 76,
   "metadata": {},
   "outputs": [],
   "source": [
    "LAB2=create_lab(S2_d)\n",
    "LAB3=create_lab(S3_d)\n",
    "LAB4=create_lab(S4_d)\n",
    "LAB5=create_lab(S5_d)\n",
    "LAB6=create_lab(S6_d)\n",
    "LAB7=create_lab(S7_d)\n",
    "LAB8=create_lab(S8_d)\n",
    "LAB9=create_lab(S9_d)\n",
    "LAB10=create_lab(S10_d)\n",
    "LAB11=create_lab(S11_d)\n",
    "LAB13=create_lab(S13_d)\n",
    "LAB14=create_lab(S14_d)\n",
    "LAB15=create_lab(S15_d)\n",
    "LAB16=create_lab(S16_d)\n",
    "LAB17=create_lab(S17_d)"
   ]
  },
  {
   "cell_type": "code",
   "execution_count": 283,
   "metadata": {},
   "outputs": [
    {
     "data": {
      "text/html": [
       "<div>\n",
       "<style scoped>\n",
       "    .dataframe tbody tr th:only-of-type {\n",
       "        vertical-align: middle;\n",
       "    }\n",
       "\n",
       "    .dataframe tbody tr th {\n",
       "        vertical-align: top;\n",
       "    }\n",
       "\n",
       "    .dataframe thead th {\n",
       "        text-align: right;\n",
       "    }\n",
       "</style>\n",
       "<table border=\"1\" class=\"dataframe\">\n",
       "  <thead>\n",
       "    <tr style=\"text-align: right;\">\n",
       "      <th></th>\n",
       "      <th>label</th>\n",
       "    </tr>\n",
       "  </thead>\n",
       "  <tbody>\n",
       "    <tr>\n",
       "      <th>0</th>\n",
       "      <td>0.0</td>\n",
       "    </tr>\n",
       "    <tr>\n",
       "      <th>1</th>\n",
       "      <td>0.0</td>\n",
       "    </tr>\n",
       "    <tr>\n",
       "      <th>2</th>\n",
       "      <td>0.0</td>\n",
       "    </tr>\n",
       "    <tr>\n",
       "      <th>3</th>\n",
       "      <td>0.0</td>\n",
       "    </tr>\n",
       "    <tr>\n",
       "      <th>4</th>\n",
       "      <td>0.0</td>\n",
       "    </tr>\n",
       "    <tr>\n",
       "      <th>...</th>\n",
       "      <td>...</td>\n",
       "    </tr>\n",
       "    <tr>\n",
       "      <th>6074</th>\n",
       "      <td>0.0</td>\n",
       "    </tr>\n",
       "    <tr>\n",
       "      <th>6075</th>\n",
       "      <td>0.0</td>\n",
       "    </tr>\n",
       "    <tr>\n",
       "      <th>6076</th>\n",
       "      <td>0.0</td>\n",
       "    </tr>\n",
       "    <tr>\n",
       "      <th>6077</th>\n",
       "      <td>0.0</td>\n",
       "    </tr>\n",
       "    <tr>\n",
       "      <th>6078</th>\n",
       "      <td>0.0</td>\n",
       "    </tr>\n",
       "  </tbody>\n",
       "</table>\n",
       "<p>6079 rows × 1 columns</p>\n",
       "</div>"
      ],
      "text/plain": [
       "      label\n",
       "0       0.0\n",
       "1       0.0\n",
       "2       0.0\n",
       "3       0.0\n",
       "4       0.0\n",
       "...     ...\n",
       "6074    0.0\n",
       "6075    0.0\n",
       "6076    0.0\n",
       "6077    0.0\n",
       "6078    0.0\n",
       "\n",
       "[6079 rows x 1 columns]"
      ]
     },
     "execution_count": 283,
     "metadata": {},
     "output_type": "execute_result"
    }
   ],
   "source": [
    "#All together\n",
    "frames = [LAB2, LAB3, LAB4, LAB5, LAB6, LAB7, LAB8, LAB9, LAB10, LAB11, LAB13, LAB14, LAB15, LAB16, LAB17]\n",
    "LAB=pd.concat(frames)\n",
    "LAB=LAB.reset_index()\n",
    "LAB=LAB.drop(columns='index')"
   ]
  },
  {
   "cell_type": "markdown",
   "metadata": {},
   "source": [
    "# ALL TOGETHER"
   ]
  },
  {
   "cell_type": "code",
   "execution_count": 305,
   "metadata": {},
   "outputs": [],
   "source": [
    "#Add all features into one dataframe\n",
    "S=pd.merge(HR, ED, left_index=True, right_index=True)\n",
    "S=pd.merge(S, EM, left_index=True, right_index=True)\n",
    "S=pd.merge(S, RS, left_index=True, right_index=True)\n",
    "S=pd.merge(S, T, left_index=True, right_index=True)\n",
    "S=pd.merge(S, ACC, left_index=True, right_index=True)\n",
    "S=pd.merge(S, LAB, left_index=True, right_index=True)"
   ]
  },
  {
   "cell_type": "code",
   "execution_count": 307,
   "metadata": {},
   "outputs": [],
   "source": [
    "#Clear the unused labels to train the model\n",
    "S_f=S[S['label']!=0]\n",
    "S_f=S_f[S_f['label']!=5]\n",
    "S_f=S_f[S_f['label']!=6]\n",
    "S_f=S_f[S_f['label']!=7]\n",
    "\n",
    "#Get rid of outliers\n",
    "z_scores=stats.zscore(S_f)\n",
    "abs_z_scores = np.abs(z_scores)\n",
    "filtered_entries = (abs_z_scores < 4).all(axis=1)\n",
    "SS = S_f[filtered_entries]"
   ]
  },
  {
   "cell_type": "code",
   "execution_count": 322,
   "metadata": {},
   "outputs": [],
   "source": [
    "#Dataframe after ablation study\n",
    "SS_ab=SS.drop(columns=['std_T', 'std_y', 'std_z'])"
   ]
  },
  {
   "cell_type": "markdown",
   "metadata": {},
   "source": [
    "# Train and evaluate model"
   ]
  },
  {
   "cell_type": "code",
   "execution_count": 318,
   "metadata": {},
   "outputs": [],
   "source": [
    "#Split into train and test set\n",
    "from sklearn.model_selection import train_test_split\n",
    "xtrain, xtest, ytrain, ytest = train_test_split(SS.drop('label',axis=1),SS['label'], test_size=0.30, \n",
    "                                                    random_state=101)"
   ]
  },
  {
   "cell_type": "code",
   "execution_count": 324,
   "metadata": {},
   "outputs": [
    {
     "name": "stdout",
     "output_type": "stream",
     "text": [
      "Train: 0.9582059123343527\n",
      "Test: 0.9643705463182898\n"
     ]
    }
   ],
   "source": [
    "#Logistic regressin\n",
    "from sklearn.linear_model import LogisticRegression\n",
    "logmodel = LogisticRegression(max_iter=100000, C=1)\n",
    "logmodel.fit(xtrain,ytrain)\n",
    "y_pred = logmodel.predict(xtest)\n",
    "y_predtrain=logmodel.predict(xtrain)\n",
    "print(\"Train:\",accuracy_score(ytrain, y_predtrain))\n",
    "print(\"Test:\",accuracy_score(ytest, y_pred))"
   ]
  },
  {
   "cell_type": "code",
   "execution_count": 329,
   "metadata": {},
   "outputs": [
    {
     "name": "stdout",
     "output_type": "stream",
     "text": [
      "Train: 1.0\n",
      "Test: 0.9726840855106889\n"
     ]
    }
   ],
   "source": [
    "#K-nearest\n",
    "k=1\n",
    "neigh=KNeighborsClassifier(n_neighbors=k)\n",
    "neigh.fit(xtrain, ytrain)\n",
    "ypred=neigh.predict(xtest)\n",
    "y_predtrain=neigh.predict(xtrain)\n",
    "print(\"Train:\",accuracy_score(ytrain, y_predtrain))\n",
    "print(\"Test:\",accuracy_score(ytest, ypred))"
   ]
  },
  {
   "cell_type": "code",
   "execution_count": 330,
   "metadata": {},
   "outputs": [
    {
     "name": "stdout",
     "output_type": "stream",
     "text": [
      "Train: 1.0\n",
      "Test: 1.0\n"
     ]
    }
   ],
   "source": [
    "#Decision tree\n",
    "from sklearn import tree\n",
    "leaf=tree.DecisionTreeClassifier()\n",
    "leaf.fit(xtrain, ytrain)\n",
    "ypred=leaf.predict(xtest)\n",
    "y_predtrain=leaf.predict(xtrain)\n",
    "print(\"Train:\",accuracy_score(ytrain, y_predtrain))\n",
    "print(\"Test:\",accuracy_score(ytest, ypred))"
   ]
  },
  {
   "cell_type": "code",
   "execution_count": 331,
   "metadata": {},
   "outputs": [
    {
     "name": "stdout",
     "output_type": "stream",
     "text": [
      "Train: 1.0\n",
      "Test: 1.0\n"
     ]
    }
   ],
   "source": [
    "#Random forest\n",
    "from sklearn.ensemble import RandomForestClassifier\n",
    "clf=RandomForestClassifier(n_estimators=10)\n",
    "clf.fit(xtrain, ytrain)\n",
    "ypred=clf.predict(xtest)\n",
    "y_predtrain=clf.predict(xtrain)\n",
    "print(\"Train:\",accuracy_score(ytrain, y_predtrain))\n",
    "print(\"Test:\",accuracy_score(ytest, ypred))"
   ]
  },
  {
   "cell_type": "code",
   "execution_count": 332,
   "metadata": {},
   "outputs": [
    {
     "name": "stdout",
     "output_type": "stream",
     "text": [
      "Train: 0.5326197757390418\n",
      "Test: 0.5391923990498813\n"
     ]
    }
   ],
   "source": [
    "#AdaBoost\n",
    "from sklearn.ensemble import AdaBoostClassifier\n",
    "boost=AdaBoostClassifier(n_estimators=100)\n",
    "boost.fit(xtrain,ytrain)\n",
    "ypred=boost.predict(xtest)\n",
    "y_predtrain=boost.predict(xtrain)\n",
    "print(\"Train:\",accuracy_score(ytrain, y_predtrain))\n",
    "print(\"Test:\",accuracy_score(ytest, ypred))"
   ]
  },
  {
   "cell_type": "code",
   "execution_count": 321,
   "metadata": {},
   "outputs": [
    {
     "data": {
      "image/png": "[encoded data removed]",
      "text/plain": [
       "<Figure size 432x288 with 1 Axes>"
      ]
     },
     "metadata": {
      "needs_background": "light"
     },
     "output_type": "display_data"
    }
   ],
   "source": [
    "#PLot importance of features\n",
    "imp=leaf.feature_importances_\n",
    "pyplot.bar([x for x in range(len(imp))], imp)\n",
    "xlabel=['HR', 'EDA', 'EDA_b', 'EMG','EMG_b', 'Resp','Resp_b', 'mean T', 'std_T', 'mean x', 'mean y', 'mean z', 'std x', 'std y', 'std z']\n",
    "pyplot.xticks([0, 1, 2,3,4,5,6,7,8,9,10,11,12,13,14,15], xlabel, rotation=45)\n",
    "pyplot.ylabel('Importance')\n",
    "pyplot.xlabel('Feature')\n",
    "pyplot.savefig('Importance.png')\n",
    "pyplot.show()\n"
   ]
  },
  {
   "cell_type": "code",
   "execution_count": 239,
   "metadata": {},
   "outputs": [
    {
     "data": {
      "text/plain": [
       "<matplotlib.legend.Legend at 0x168c41991c0>"
      ]
     },
     "execution_count": 239,
     "metadata": {},
     "output_type": "execute_result"
    },
    {
     "data": {
      "image/png": "[encoded data removed]",
      "text/plain": [
       "<Figure size 432x288 with 1 Axes>"
      ]
     },
     "metadata": {
      "needs_background": "light"
     },
     "output_type": "display_data"
    }
   ],
   "source": [
    "#Neigh\n",
    "alphas=[1,3,5,7,10, 20,50]\n",
    "acc=np.zeros(len(alphas))\n",
    "acc_t=np.zeros(len(alphas))\n",
    "for i in range (len(alphas)):\n",
    "    neigh = KNeighborsClassifier(n_neighbors=alphas[i])\n",
    "    neigh.fit(xtrain, ytrain)\n",
    "    ypred=neigh.predict(xtest)\n",
    "    acc[i]=accuracy_score(ytest, ypred)\n",
    "    acc_t[i]=accuracy_score(ytrain, neigh.predict(xtrain))\n",
    "fig, ax1 = plt.subplots()\n",
    "plt.plot(alphas, acc)\n",
    "ax1.set_xlabel('Number of neighbors')\n",
    "ax1.set_ylabel('Accuracy')\n",
    "plt.plot(alphas, acc_t)\n",
    "fig.legend([\"Test\", \"Training\"])"
   ]
  },
  {
   "cell_type": "markdown",
   "metadata": {},
   "source": [
    "# EDA"
   ]
  },
  {
   "cell_type": "code",
   "execution_count": 134,
   "metadata": {},
   "outputs": [
    {
     "data": {
      "image/png": "[encoded data removed]",
      "text/plain": [
       "<Figure size 432x288 with 1 Axes>"
      ]
     },
     "metadata": {
      "needs_background": "light"
     },
     "output_type": "display_data"
    }
   ],
   "source": [
    "import seaborn as sns\n",
    "#Change y to other feature to obtain boxplot\n",
    "sns.boxplot( x = 'label', y = 'mean_z', data = S_f)\n",
    "#plt.ylim([0,0.25])\n",
    "plt.savefig('ALL_zm.png')"
   ]
  },
  {
   "cell_type": "code",
   "execution_count": 114,
   "metadata": {},
   "outputs": [
    {
     "data": {
      "image/png": "[encoded data removed]",
      "text/plain": [
       "<Figure size 432x288 with 1 Axes>"
      ]
     },
     "metadata": {
      "needs_background": "light"
     },
     "output_type": "display_data"
    }
   ],
   "source": [
    "#Change hue to other binary feature to obtain bar chart\n",
    "sns.countplot(x = 'label', hue = 'Resp_b', data = S_f)\n",
    "plt.savefig('ALL_Resp.png')"
   ]
  },
  {
   "cell_type": "code",
   "execution_count": 220,
   "metadata": {},
   "outputs": [
    {
     "name": "stdout",
     "output_type": "stream",
     "text": [
      "(0.6946454351298932, 0.0)\n",
      "SpearmanrResult(correlation=0.7433921857951258, pvalue=0.0)\n"
     ]
    }
   ],
   "source": [
    "#Spearman coefficient. Change X and Y to compare other features\n",
    "X=SS['std_y']\n",
    "Y=SS['std_z']\n",
    "result_sp=spearmanr(X,Y)\n",
    "print(result_sp)"
   ]
  }
 ],
 "metadata": {
  "kernelspec": {
   "display_name": "Python 3",
   "language": "python",
   "name": "python3"
  },
  "language_info": {
   "codemirror_mode": {
    "name": "ipython",
    "version": 3
   },
   "file_extension": ".py",
   "mimetype": "text/x-python",
   "name": "python",
   "nbconvert_exporter": "python",
   "pygments_lexer": "ipython3",
   "version": "3.8.3"
  }
 },
 "nbformat": 4,
 "nbformat_minor": 4
}
